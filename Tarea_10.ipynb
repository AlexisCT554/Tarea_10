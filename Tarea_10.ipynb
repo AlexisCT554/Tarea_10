{
  "nbformat": 4,
  "nbformat_minor": 0,
  "metadata": {
    "colab": {
      "name": "Tarea_10.ipynb",
      "provenance": []
    },
    "kernelspec": {
      "name": "python3",
      "display_name": "Python 3"
    },
    "language_info": {
      "name": "python"
    }
  },
  "cells": [
    {
      "cell_type": "code",
      "metadata": {
        "id": "Jw3hZ6tldq4H"
      },
      "source": [
        "class Queue:\n",
        "  def __init__ (self):\n",
        "    self.data = []\n",
        "\n",
        "  def is_empty (self):\n",
        "    return len(self.data) == 0\n",
        "  \n",
        "  def length (self):\n",
        "    return len(self.data)\n",
        "\n",
        "  def enqueue(self,value):\n",
        "    self.data.append(value)\n",
        "\n",
        "  def dequeue(self):\n",
        "    return self.data.pop(0)\n",
        "\n",
        "  def to_string(self):\n",
        "    for elem in self.data:\n",
        "      print(f\" {elem} <--\", end = \"\")\n",
        "    print(\"\")"
      ],
      "execution_count": 11,
      "outputs": []
    },
    {
      "cell_type": "code",
      "metadata": {
        "id": "8J0zRJsKeGc9"
      },
      "source": [
        "class BoundedPriorityQueue:\n",
        "  def __init__ (self, prioridad):\n",
        "    self.data =[Queue() for x in range(prioridad) ]\n",
        "    self.size = 0 \n",
        "  \n",
        "  def is_empty(self):\n",
        "    return self.size == 0\n",
        "\n",
        "  def length(self):\n",
        "    return self.size\n",
        "  \n",
        "  def enqueue(self, prioridad, elem):\n",
        "    if prioridad < len(self.data) and prioridad >= 0:\n",
        "      self.data[prioridad].enqueue(elem)\n",
        "      self.size += 1\n",
        "  \n",
        "  def dequeue(self):\n",
        "    if not self.is_empty():\n",
        "      for prioridad in self.data:\n",
        "        if not prioridad.is_empty():\n",
        "          self.size -= 1\n",
        "          return prioridad.dequeue()\n",
        "  \n",
        "  def to_string(self):\n",
        "    for prioridad in range(len(self.data)):\n",
        "      print(f\"Prioridad {prioridad} --> {self.data[prioridad].to_string()}\")\n",
        "  \n",
        "  "
      ],
      "execution_count": 17,
      "outputs": []
    },
    {
      "cell_type": "code",
      "metadata": {
        "colab": {
          "base_uri": "https://localhost:8080/"
        },
        "id": "xY5g6dNwj7mY",
        "outputId": "6d7982d9-7938-40b7-8edf-b0cbc90e195d"
      },
      "source": [
        "#Creacion de barco y cantidad de prioridades\n",
        "barco = BoundedPriorityQueue(7)\n",
        "\n",
        "#Comprobacion de la cola del barco\n",
        "print(f\"El barco esta vacio? {barco.is_empty()} \")\n",
        "print(\"Pueden empezar a ingresar.\")\n",
        "\n",
        "#Personas\n",
        "Hombres = {\"prioridad\": 3, \"descripcion\":\"Hombres\", \"Personas\":[\"Juan F\", \"Arturo G\"]}\n",
        "Vigia = {\"prioridad\": 4, \"descripcion\":\"Vigia\", \"Personas\":[\"Emilio C\"]}\n",
        "Maestres = {\"prioridad\": 4, \"descripcion\":\"Maestre\", \"Personas\":[\"Juan P\"]}\n",
        "Mujeres = {\"prioridad\": 3, \"descripcion\":\"Mujeres\", \"Personas\":[\"Teresa C\", \"Maria R\"]}\n",
        "Niños = {\"prioridad\": 2, \"descripcion\":\"Niños\", \"Personas\":[\"Pablo R\", \"David C\"]}\n",
        "Mecanicos = {\"prioridad\": 4, \"descripcion\":\"Mecanicos\", \"Personas\":[\"Porfirio G\", \"Israel L\"]}\n",
        "TerceraEdad = {\"prioridad\": 2, \"descripcion\":\"3ra Edad\", \"Personas\":[\"Zenaida L\", \"Gabriela L\", \"Benito P\"]}\n",
        "Niñas = {\"prioridad\": 1, \"descripcion\":\"Niñas\", \"Personas\":[\"Miriam G\", \"America R\"]}\n",
        "Timonel = {\"prioridad\": 4, \"descripcion\":\"Timonel\", \"Personas\":[\"Alejandro L\", \"Luis M\"]}\n",
        "Capitan = {\"prioridad\": 5, \"descripcion\":\"Capitan\", \"Personas\":[\"Hugo P\"]}\n",
        "\n",
        "\n",
        "barco.enqueue(Maestres['prioridad'], Maestres)\n",
        "barco.enqueue(Niños['prioridad'], Niños)\n",
        "barco.enqueue(Mecanicos['prioridad'], Mecanicos)\n",
        "barco.enqueue(Mujeres['prioridad'], Mujeres)\n",
        "barco.enqueue(TerceraEdad['prioridad'], TerceraEdad)\n",
        "barco.enqueue(Niñas['prioridad'], Niñas)\n",
        "barco.enqueue(Hombres['prioridad'], Hombres)\n",
        "barco.enqueue(Vigia['prioridad'], Vigia)\n",
        "barco.enqueue(Capitan['prioridad'], Capitan)\n",
        "barco.enqueue(Timonel['prioridad'], Timonel)\n",
        "\n",
        "print(f\"El barco esta lleno? {not barco.is_empty()}\")\n",
        "\n",
        "print(\"\\n--------------------Pasajeros y prioridades-------------------------\\n\")\n",
        "barco.to_string()\n",
        "\n",
        "\n",
        "#Las personas bajan del barco\n",
        "print(\"\\n--------------------Evaluacion del barco----------------------------\\n\")\n",
        "while (not barco.is_empty()):\n",
        "  print(f\"Ha bajado del barco: {barco.dequeue()}\\n\")\n",
        "if barco.is_empty():\n",
        "  print(\"----------------------------------------------------------------------\")\n",
        "  print(\"\\nEl barco esta vacio, no queda nadie dentro de el.\")"
      ],
      "execution_count": 20,
      "outputs": [
        {
          "output_type": "stream",
          "name": "stdout",
          "text": [
            "El barco esta vacio? True \n",
            "Pueden empezar a ingresar.\n",
            "El barco esta lleno? True\n",
            "\n",
            "--------------------Pasajeros y prioridades-------------------------\n",
            "\n",
            "\n",
            "Prioridad 0 --> None\n",
            " {'prioridad': 1, 'descripcion': 'Niñas', 'Personas': ['Miriam G', 'America R']} <--\n",
            "Prioridad 1 --> None\n",
            " {'prioridad': 2, 'descripcion': 'Niños', 'Personas': ['Pablo R', 'David C']} <-- {'prioridad': 2, 'descripcion': '3ra Edad', 'Personas': ['Zenaida L', 'Gabriela L', 'Benito P']} <--\n",
            "Prioridad 2 --> None\n",
            " {'prioridad': 3, 'descripcion': 'Mujeres', 'Personas': ['Teresa C', 'Maria R']} <-- {'prioridad': 3, 'descripcion': 'Hombres', 'Personas': ['Juan F', 'Arturo G']} <--\n",
            "Prioridad 3 --> None\n",
            " {'prioridad': 4, 'descripcion': 'Maestre', 'Personas': ['Juan P']} <-- {'prioridad': 4, 'descripcion': 'Mecanicos', 'Personas': ['Porfirio G', 'Israel L']} <-- {'prioridad': 4, 'descripcion': 'Vigia', 'Personas': ['Emilio C']} <-- {'prioridad': 4, 'descripcion': 'Timonel', 'Personas': ['Alejandro L', 'Luis M']} <--\n",
            "Prioridad 4 --> None\n",
            " {'prioridad': 5, 'descripcion': 'Capitan', 'Personas': ['Hugo P']} <--\n",
            "Prioridad 5 --> None\n",
            "\n",
            "Prioridad 6 --> None\n",
            "\n",
            "--------------------Evaluacion del barco----------------------------\n",
            "\n",
            "Ha bajado del barco: {'prioridad': 1, 'descripcion': 'Niñas', 'Personas': ['Miriam G', 'America R']}\n",
            "\n",
            "Ha bajado del barco: {'prioridad': 2, 'descripcion': 'Niños', 'Personas': ['Pablo R', 'David C']}\n",
            "\n",
            "Ha bajado del barco: {'prioridad': 2, 'descripcion': '3ra Edad', 'Personas': ['Zenaida L', 'Gabriela L', 'Benito P']}\n",
            "\n",
            "Ha bajado del barco: {'prioridad': 3, 'descripcion': 'Mujeres', 'Personas': ['Teresa C', 'Maria R']}\n",
            "\n",
            "Ha bajado del barco: {'prioridad': 3, 'descripcion': 'Hombres', 'Personas': ['Juan F', 'Arturo G']}\n",
            "\n",
            "Ha bajado del barco: {'prioridad': 4, 'descripcion': 'Maestre', 'Personas': ['Juan P']}\n",
            "\n",
            "Ha bajado del barco: {'prioridad': 4, 'descripcion': 'Mecanicos', 'Personas': ['Porfirio G', 'Israel L']}\n",
            "\n",
            "Ha bajado del barco: {'prioridad': 4, 'descripcion': 'Vigia', 'Personas': ['Emilio C']}\n",
            "\n",
            "Ha bajado del barco: {'prioridad': 4, 'descripcion': 'Timonel', 'Personas': ['Alejandro L', 'Luis M']}\n",
            "\n",
            "Ha bajado del barco: {'prioridad': 5, 'descripcion': 'Capitan', 'Personas': ['Hugo P']}\n",
            "\n",
            "----------------------------------------------------------------------\n",
            "\n",
            "El barco esta vacio, no queda nadie dentro de el.\n"
          ]
        }
      ]
    }
  ]
}